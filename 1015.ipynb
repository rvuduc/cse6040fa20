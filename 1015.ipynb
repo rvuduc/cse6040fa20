{
 "cells": [
  {
   "cell_type": "markdown",
   "metadata": {},
   "source": [
    "# Movie ratings database"
   ]
  },
  {
   "cell_type": "markdown",
   "metadata": {},
   "source": [
    ".|OUTi...H | Parasite | Little Women | 1917\n",
    "-|--------------------------------|----------|--------------|------\n",
    "alice | 1 | 1 | 0 | 1\n",
    "  bob | 0 | 1 | 1 | 0\n",
    "carol | 1 | 1 | 0 | 0\n",
    "maria | 1 | 0 | 1 | 1\n",
    "\n",
    "> \"OUTi...H\" = Once Upon a Time in ... Hollywood"
   ]
  },
  {
   "cell_type": "markdown",
   "metadata": {},
   "source": [
    "## SQL\n",
    "\n",
    "Here is a natural way to store the above data in a SQL database."
   ]
  },
  {
   "cell_type": "code",
   "execution_count": null,
   "metadata": {},
   "outputs": [],
   "source": [
    "import sqlite3 as db\n",
    "from pandas import read_sql_query\n",
    "conn = db.connect('movie-ratings.db')\n",
    "cursor = conn.cursor()"
   ]
  },
  {
   "cell_type": "code",
   "execution_count": null,
   "metadata": {},
   "outputs": [],
   "source": [
    "cursor.execute(\"DROP TABLE IF EXISTS Users\")\n",
    "cursor.execute(\"CREATE TABLE Users (id INTEGER, name TEXT)\")\n",
    "cursor.executemany(\"INSERT INTO Users VALUES (?, ?)\", [(0, 'alice'), (1, 'bob'), (2, 'carol'), (3, 'maria')])\n",
    "conn.commit()\n",
    "read_sql_query(\"SELECT * FROM Users\", conn)"
   ]
  },
  {
   "cell_type": "code",
   "execution_count": null,
   "metadata": {},
   "outputs": [],
   "source": [
    "cursor.execute(\"DROP TABLE IF EXISTS Movies\")\n",
    "cursor.execute(\"CREATE TABLE Movies (id INTEGER, name TEXT)\")\n",
    "cursor.executemany(\"INSERT INTO Movies VALUES (?, ?)\", [(0, 'outi...h'), (1, 'parasite'), (2, 'little women'), (3, '1917')])\n",
    "conn.commit()\n",
    "read_sql_query(\"SELECT * FROM Movies\", conn)"
   ]
  },
  {
   "cell_type": "markdown",
   "metadata": {},
   "source": [
    ".|OUTi...H | Parasite | Little Women | 1917\n",
    "-|--------------------------------|----------|--------------|------\n",
    "alice | 1 | 1 | 0 | 1\n",
    "  bob | 0 | 1 | 1 | 0\n",
    "carol | 1 | 1 | 0 | 0\n",
    "maria | 1 | 0 | 1 | 1"
   ]
  },
  {
   "cell_type": "code",
   "execution_count": null,
   "metadata": {},
   "outputs": [],
   "source": [
    "cursor.execute(\"DROP TABLE IF EXISTS Ratings\")\n",
    "cursor.execute(\"CREATE TABLE Ratings (user INTEGER, movie INTEGER)\")\n",
    "cursor.executemany(\"INSERT INTO Ratings VALUES (?, ?)\", [(0, 0), (0, 1), (0, 3),\n",
    "                                                         (1, 1), (1, 2),\n",
    "                                                         (2, 0), (2, 1),\n",
    "                                                         (3, 0), (3, 2), (3, 3)])\n",
    "conn.commit()\n",
    "read_sql_query(\"SELECT * FROM Ratings\", conn)"
   ]
  },
  {
   "cell_type": "markdown",
   "metadata": {},
   "source": [
    "**Exercise:** Which user is \"most similar\" to Maria?\n",
    "\n",
    "> _Answer:_ `alice`: 2 movies in common, `bob`: 1, `carol`: 1. Let's write some SQL to calculate it."
   ]
  },
  {
   "cell_type": "markdown",
   "metadata": {},
   "source": [
    "In the implementation below, for clarity, we'll use views to create some logical tables that we can then join to perform the desired comparisons."
   ]
  },
  {
   "cell_type": "code",
   "execution_count": null,
   "metadata": {},
   "outputs": [],
   "source": [
    "# Maria's viewed-movie list\n",
    "cursor.execute(\"DROP VIEW IF EXISTS Maria\")\n",
    "cursor.execute(\"CREATE VIEW Maria AS SELECT movie FROM Ratings WHERE user=3\")\n",
    "read_sql_query(\"SELECT * FROM Maria\", conn)"
   ]
  },
  {
   "cell_type": "code",
   "execution_count": null,
   "metadata": {},
   "outputs": [],
   "source": [
    "# Everyone but Maria\n",
    "cursor.execute(\"DROP VIEW IF EXISTS Everyone\")\n",
    "cursor.execute(\"CREATE VIEW Everyone AS SELECT user, movie FROM Ratings WHERE user<>3\")\n",
    "read_sql_query(\"SELECT * FROM Everyone\", conn)"
   ]
  },
  {
   "cell_type": "code",
   "execution_count": null,
   "metadata": {},
   "outputs": [],
   "source": [
    "read_sql_query(\"\"\"\n",
    "SELECT Everyone.user, Count(*)\n",
    "  FROM Everyone, Maria\n",
    "  WHERE Everyone.movie = Maria.movie\n",
    "  GROUP BY user\n",
    "\"\"\", conn)"
   ]
  },
  {
   "cell_type": "markdown",
   "metadata": {},
   "source": [
    "> Here is a second version that merges in the names to make the output a little more readable."
   ]
  },
  {
   "cell_type": "code",
   "execution_count": null,
   "metadata": {},
   "outputs": [],
   "source": [
    "read_sql_query(\"\"\"\n",
    "SELECT Everyone.user, Users.name, Count(*)\n",
    "  FROM Users, Everyone, Maria\n",
    "  WHERE Everyone.movie = Maria.movie AND Users.id = Everyone.user\n",
    "  GROUP BY user\n",
    "\"\"\", conn)"
   ]
  },
  {
   "cell_type": "code",
   "execution_count": null,
   "metadata": {},
   "outputs": [],
   "source": [
    "conn.close()"
   ]
  },
  {
   "cell_type": "markdown",
   "metadata": {},
   "source": [
    "## Python version"
   ]
  },
  {
   "cell_type": "markdown",
   "metadata": {},
   "source": [
    "Recall the dataset:\n",
    "\n",
    ".|OUTi...H | Parasite | Little Women | 1917\n",
    "-|--------------------------------|----------|--------------|------\n",
    "alice | 1 | 1 | 0 | 1\n",
    "  bob | 0 | 1 | 1 | 0\n",
    "carol | 1 | 1 | 0 | 0\n",
    "maria | 1 | 0 | 1 | 1"
   ]
  },
  {
   "cell_type": "markdown",
   "metadata": {},
   "source": [
    "Here is one encoding of that table using a dictionary of dictionaries, with the outermost keys being the names (row labels) and the innermost keys being the movies (column labels). The convention in this case is to _omit_ any zero entries, thereby exploiting the _sparsity_ of the table."
   ]
  },
  {
   "cell_type": "code",
   "execution_count": null,
   "metadata": {},
   "outputs": [],
   "source": [
    "viewers = {'alice': {'outi...h': 1, 'parasite': 1, '1917': 1},\n",
    "           'bob': {'parasite': 1, 'little women': 1},\n",
    "           'carol': {'outi...h': 1, 'parasite': 1},\n",
    "           'maria': {'outi...h': 1, 'little women': 1, '1917': 1}}\n",
    "viewers"
   ]
  },
  {
   "cell_type": "markdown",
   "metadata": {},
   "source": [
    "Let's develop a Python analogue of the SQL query from above."
   ]
  },
  {
   "cell_type": "code",
   "execution_count": null,
   "metadata": {},
   "outputs": [],
   "source": [
    "maria = viewers['maria']\n",
    "maria"
   ]
  },
  {
   "cell_type": "code",
   "execution_count": null,
   "metadata": {},
   "outputs": [],
   "source": [
    "everyone = {name: viewed for name, viewed in viewers.items() if name != 'maria'}\n",
    "everyone"
   ]
  },
  {
   "cell_type": "markdown",
   "metadata": {},
   "source": [
    "**Version 0.**"
   ]
  },
  {
   "cell_type": "code",
   "execution_count": null,
   "metadata": {},
   "outputs": [],
   "source": [
    "from collections import defaultdict\n",
    "similarities = defaultdict(int)\n",
    "for name in everyone:\n",
    "    for movie in everyone[name]:\n",
    "        if movie in maria:\n",
    "            similarities[name] += 1\n",
    "similarities"
   ]
  },
  {
   "cell_type": "markdown",
   "metadata": {},
   "source": [
    "**Version 1.** Same as above, but the innermost loop iterates over Maria's movies rather than the movies in `everyone[name]`. There is no intrinsic advantage or disadvantage between Version 0 or 1, unless we believe that Version that `maria` or `everyone[name]` will tend to have fewer nonzeros. (A method that wanted to minimize data items touched might iterate over whichever structure, `maria` or `everyone[name]`, has the fewest nonzeros.)"
   ]
  },
  {
   "cell_type": "code",
   "execution_count": null,
   "metadata": {},
   "outputs": [],
   "source": [
    "from collections import defaultdict\n",
    "similarities = defaultdict(int)\n",
    "for name in everyone:\n",
    "    for movie in maria:\n",
    "        if movie in everyone[name]:\n",
    "            similarities[name] += 1\n",
    "similarities"
   ]
  },
  {
   "cell_type": "markdown",
   "metadata": {},
   "source": [
    "**Version 2.** This version is the same as Version 0 but with the explicit `if` condition eliminated by the dictionary's `.get()` method."
   ]
  },
  {
   "cell_type": "code",
   "execution_count": null,
   "metadata": {},
   "outputs": [],
   "source": [
    "similarities = defaultdict(int)\n",
    "for name in everyone:\n",
    "    for movie in everyone[name]:\n",
    "        similarities[name] += maria.get(movie, 0)\n",
    "similarities"
   ]
  },
  {
   "cell_type": "markdown",
   "metadata": {},
   "source": [
    "**Version 3.** In this version, we generalize the code slightly in the case that the values might not be just 0 and 1, but maybe ratings on a scale from, say, 0 to 4 \"stars.\" In this instance, one might take the _product_ of two ratings to be a measure of similarity."
   ]
  },
  {
   "cell_type": "code",
   "execution_count": null,
   "metadata": {},
   "outputs": [],
   "source": [
    "similarities = defaultdict(int)\n",
    "for name in everyone:\n",
    "    for movie in everyone[name]:\n",
    "        similarities[name] += everyone[name][movie] * maria.get(movie, 0)\n",
    "similarities"
   ]
  },
  {
   "cell_type": "markdown",
   "metadata": {},
   "source": [
    "_Don't do the following!_ Remember that accessing a default dictionary with _any_ key will create an entry for that key, even if you do not do assignment! Example:"
   ]
  },
  {
   "cell_type": "code",
   "execution_count": null,
   "metadata": {},
   "outputs": [],
   "source": [
    "similarities['rich']\n",
    "similarities"
   ]
  },
  {
   "cell_type": "markdown",
   "metadata": {},
   "source": [
    "## Connecting ideas"
   ]
  },
  {
   "cell_type": "markdown",
   "metadata": {},
   "source": [
    "Let\n",
    "- $y$ denote `similarities`;\n",
    "- $i$ denote `name`;\n",
    "- $x$ denote `maria`;\n",
    "- $j$ denote `movie`; and\n",
    "- $A$ denote `everyone`.\n",
    "\n",
    "Then body of above loop is\n",
    "\n",
    "$$y_i \\leftarrow y_i + a_{i,j} \\cdot x_j,$$\n",
    "\n",
    "which is an \"update equation,\" since it implies some kind of looping structure that updates the value $y_i$. In this case, if we further assume that $y_i$ is 0 initially, which would be the case in counting, then you should recognize this update as a _matrix-vector multiplication_ (per Topic 3):\n",
    "\n",
    "$$\\implies y = A \\cdot x$$\n",
    "\n",
    "This equation is the _matrix form._ It is equivalent to the following _scalar form_, for all $y_i$:\n",
    "$$\\implies y_i = \\sum_{j} a_{i,j} \\cdot x_j.$$"
   ]
  },
  {
   "cell_type": "markdown",
   "metadata": {},
   "source": [
    "From the scalar form, the most natural implementation would, at first glance, seem to be something like,\n",
    "\n",
    "```python\n",
    "for i in range(m):\n",
    "    for j in range(n):\n",
    "        y[i] += A[i, j] * x[j]\n",
    "```\n",
    "\n",
    "The above loop-nest is a straightforward translation of the mathematical definition of matrix-vector multiplication. But it's not necessarily efficient in this example because it _ignores_ sparsity! That is, it visits every entry of $A$ even though our example (if you imagined many millions of users and hundreds of thousands of movies) would be quite sparse. You should review the Python implementations above to see how the choice of data structure affects the choice of how to efficiently implement the loops.\n",
    "\n",
    "> In the SQL example, it's arguably less clear whether sparsity is exploited appropriately because it is, as we've discussed, _declarative_, meaning it says what to compute but does not dictate how. By contrast, the Python version is an _imperative_ program: it prescribes exactly how to execute the loops."
   ]
  }
 ],
 "metadata": {
  "kernelspec": {
   "display_name": "Python 3",
   "language": "python",
   "name": "python3"
  },
  "language_info": {
   "codemirror_mode": {
    "name": "ipython",
    "version": 3
   },
   "file_extension": ".py",
   "mimetype": "text/x-python",
   "name": "python",
   "nbconvert_exporter": "python",
   "pygments_lexer": "ipython3",
   "version": "3.7.3"
  }
 },
 "nbformat": 4,
 "nbformat_minor": 4
}
