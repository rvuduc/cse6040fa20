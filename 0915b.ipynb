{
 "cells": [
  {
   "cell_type": "markdown",
   "metadata": {
    "nbgrader": {
     "grade": false,
     "grade_id": "cell-d88d6bce3b214a79",
     "locked": true,
     "schema_version": 1,
     "solution": false
    }
   },
   "source": [
    "# In-class review of Notebook 2: Association rule mining"
   ]
  },
  {
   "cell_type": "code",
   "execution_count": 1,
   "metadata": {
    "nbgrader": {
     "grade": false,
     "locked": true,
     "solution": false
    },
    "scrolled": true
   },
   "outputs": [],
   "source": [
    "import sys\n",
    "print(f\"=== Python version ===\\n{sys.version}\")"
   ]
  },
  {
   "cell_type": "markdown",
   "metadata": {},
   "source": [
    "**Duck typing:** The `make_itemsets()` function uses it implicitly because it assumes `words` and each `w` in `words` are both iterable."
   ]
  },
  {
   "cell_type": "code",
   "execution_count": 2,
   "metadata": {
    "nbgrader": {
     "grade": false,
     "grade_id": "make_itemsets",
     "locked": false,
     "schema_version": 1,
     "solution": true
    }
   },
   "outputs": [],
   "source": [
    "def make_itemsets(words):\n",
    "    return [set(w) for w in words]\n",
    "    \n",
    "make_itemsets(['sed', 'ut', 'perspiciatis', 'unde', 'omnis'])"
   ]
  },
  {
   "cell_type": "code",
   "execution_count": 3,
   "metadata": {},
   "outputs": [],
   "source": [
    "x = {'sed', 'ut', 'perspiciatis', 'unde', 'omnis'}\n",
    "make_itemsets(x)"
   ]
  },
  {
   "cell_type": "markdown",
   "metadata": {},
   "source": [
    "**Problem:** Although this implementation of `make_itemsets()` is perfectly fine and meets the specifications given, we cannot reuse it easily for the \"actual basksets\" version of the problem (Exercise 11) without preprocessing.\n",
    "\n",
    "Recall the input to Exercise 11 (example here):"
   ]
  },
  {
   "cell_type": "code",
   "execution_count": 4,
   "metadata": {},
   "outputs": [],
   "source": [
    "csv_input = \"\"\"citrus fruit,semi-finished bread,margarine,ready soups\n",
    "tropical fruit,yogurt,coffee\n",
    "whole milk\n",
    "pip fruit,yogurt,cream cheese ,meat spreads\n",
    "other vegetables,whole milk,condensed milk,long life bakery product\"\"\""
   ]
  },
  {
   "cell_type": "markdown",
   "metadata": {},
   "source": [
    "It's a string where newlines separate basket-strings:"
   ]
  },
  {
   "cell_type": "code",
   "execution_count": 5,
   "metadata": {},
   "outputs": [],
   "source": [
    "baskets = csv_input.split('\\n')\n",
    "baskets"
   ]
  },
  {
   "cell_type": "markdown",
   "metadata": {},
   "source": [
    "We can't reuse `make_itemsets()` directly on `baskets`:"
   ]
  },
  {
   "cell_type": "code",
   "execution_count": 6,
   "metadata": {},
   "outputs": [],
   "source": [
    "make_itemsets(baskets)"
   ]
  },
  {
   "cell_type": "markdown",
   "metadata": {},
   "source": [
    "Why does that happen? Because applying `set(b)` to any `b` in `baskets` will just produce a set of letters. For instance:"
   ]
  },
  {
   "cell_type": "code",
   "execution_count": 7,
   "metadata": {},
   "outputs": [],
   "source": [
    "set('abc')"
   ]
  },
  {
   "cell_type": "markdown",
   "metadata": {},
   "source": [
    "That's because what `set(b)` expects is an _iterable_ `b`. And strings are iterable, where each iterate (or iteration of a loop) produces one character from the string. Example:"
   ]
  },
  {
   "cell_type": "code",
   "execution_count": 8,
   "metadata": {},
   "outputs": [],
   "source": [
    "for e in 'abc':\n",
    "    print(e)"
   ]
  },
  {
   "cell_type": "markdown",
   "metadata": {},
   "source": [
    "Conceptually, you can imagine that the implementation of `set(x)` is just like the function, `make_set(x)`, below:"
   ]
  },
  {
   "cell_type": "code",
   "execution_count": 9,
   "metadata": {},
   "outputs": [],
   "source": [
    "# set(x) # what is `x`? it's something that you can iterate over\n",
    "def make_set(x): # emulates `set(x)`\n",
    "    S = set()\n",
    "    for e in x:\n",
    "        S.add(e)\n",
    "    return S\n",
    "\n",
    "make_set('abc')"
   ]
  },
  {
   "cell_type": "markdown",
   "metadata": {},
   "source": [
    "Therefore, if `s` is a basket-string, then `set(s)` or `make_set(s)` will just return a set from the characters:"
   ]
  },
  {
   "cell_type": "code",
   "execution_count": 10,
   "metadata": {},
   "outputs": [
    {
     "data": {
      "text/plain": [
       "'citrus fruit,semi-finished bread,margarine,ready soups'"
      ]
     },
     "execution_count": 10,
     "metadata": {},
     "output_type": "execute_result"
    }
   ],
   "source": [
    "first_basket_string = baskets[0]\n",
    "first_basket_string"
   ]
  },
  {
   "cell_type": "code",
   "execution_count": 11,
   "metadata": {},
   "outputs": [
    {
     "data": {
      "text/plain": [
       "{' ',\n",
       " ',',\n",
       " '-',\n",
       " 'a',\n",
       " 'b',\n",
       " 'c',\n",
       " 'd',\n",
       " 'e',\n",
       " 'f',\n",
       " 'g',\n",
       " 'h',\n",
       " 'i',\n",
       " 'm',\n",
       " 'n',\n",
       " 'o',\n",
       " 'p',\n",
       " 'r',\n",
       " 's',\n",
       " 't',\n",
       " 'u',\n",
       " 'y'}"
      ]
     },
     "execution_count": 11,
     "metadata": {},
     "output_type": "execute_result"
    }
   ],
   "source": [
    "set(first_basket_string)  # ... or `make_set(first_basket_string)`"
   ]
  },
  {
   "cell_type": "markdown",
   "metadata": {},
   "source": [
    "If instead we have a list, `L`, then `set(L)` or `make_set(L)` will convert `L` to a list, preserving the elements:"
   ]
  },
  {
   "cell_type": "code",
   "execution_count": 12,
   "metadata": {},
   "outputs": [
    {
     "data": {
      "text/plain": [
       "{'cat', 'dog', 'mouse'}"
      ]
     },
     "execution_count": 12,
     "metadata": {},
     "output_type": "execute_result"
    }
   ],
   "source": [
    "set(['cat', 'dog', 'mouse'])"
   ]
  },
  {
   "cell_type": "markdown",
   "metadata": {},
   "source": [
    "Thus, we should take the basket-string, split it on the comma-character to get a list of items, and then turn that into a set for use with our association miner:"
   ]
  },
  {
   "cell_type": "code",
   "execution_count": 13,
   "metadata": {},
   "outputs": [
    {
     "data": {
      "text/plain": [
       "['citrus fruit', 'semi-finished bread', 'margarine', 'ready soups']"
      ]
     },
     "execution_count": 13,
     "metadata": {},
     "output_type": "execute_result"
    }
   ],
   "source": [
    "first_basket_list = first_basket_string.split(',')\n",
    "first_basket_list"
   ]
  },
  {
   "cell_type": "code",
   "execution_count": 14,
   "metadata": {},
   "outputs": [
    {
     "data": {
      "text/plain": [
       "{'citrus fruit', 'margarine', 'ready soups', 'semi-finished bread'}"
      ]
     },
     "execution_count": 14,
     "metadata": {},
     "output_type": "execute_result"
    }
   ],
   "source": [
    "set(first_basket_list) # ... or `make_set(first_basket_list)`"
   ]
  },
  {
   "cell_type": "markdown",
   "metadata": {},
   "source": [
    "**Generalizing `make_itemsets`.** Recall the original `make_itemsets` solution:"
   ]
  },
  {
   "cell_type": "code",
   "execution_count": 15,
   "metadata": {},
   "outputs": [],
   "source": [
    "def make_itemsets(baskets):\n",
    "    return [set(b) for b in baskets]"
   ]
  },
  {
   "cell_type": "markdown",
   "metadata": {},
   "source": [
    "It \"hard-codes\" the use of the `set` constructor to get a set from each element `b` of `baskets`. So, one step toward generalizing it is to allow the caller to supply a different function for that purpose. To preserve the same interface to `make_itemsets`, we can make that a new but _optional_ parameter whose default value is `set`:"
   ]
  },
  {
   "cell_type": "code",
   "execution_count": 16,
   "metadata": {},
   "outputs": [],
   "source": [
    "def make_itemsets2(baskets, to_set=set):\n",
    "    return [to_set(b) for b in baskets]"
   ]
  },
  {
   "cell_type": "markdown",
   "metadata": {},
   "source": [
    "If the caller _omits_ the `to_set` argument, this function behaves identically to `make_itemsets`:"
   ]
  },
  {
   "cell_type": "code",
   "execution_count": 17,
   "metadata": {},
   "outputs": [
    {
     "data": {
      "text/plain": [
       "[{'a', 'b', 'c'}, {'x', 'y', 'z'}]"
      ]
     },
     "execution_count": 17,
     "metadata": {},
     "output_type": "execute_result"
    }
   ],
   "source": [
    "make_itemsets(['abc', 'xyz'])"
   ]
  },
  {
   "cell_type": "code",
   "execution_count": 18,
   "metadata": {},
   "outputs": [
    {
     "data": {
      "text/plain": [
       "[{'a', 'b', 'c'}, {'x', 'y', 'z'}]"
      ]
     },
     "execution_count": 18,
     "metadata": {},
     "output_type": "execute_result"
    }
   ],
   "source": [
    "make_itemsets2(['abc', 'xyz'])"
   ]
  },
  {
   "cell_type": "markdown",
   "metadata": {},
   "source": [
    "But for our grocery-baskets input, we can provide a different way to convert each basket-string into an itemset."
   ]
  },
  {
   "cell_type": "code",
   "execution_count": 19,
   "metadata": {},
   "outputs": [
    {
     "data": {
      "text/plain": [
       "{'condensed milk',\n",
       " 'long life bakery product',\n",
       " 'other vegetables',\n",
       " 'whole milk'}"
      ]
     },
     "execution_count": 19,
     "metadata": {},
     "output_type": "execute_result"
    }
   ],
   "source": [
    "def basket_string_to_itemset(s):\n",
    "    return set(s.split(','))\n",
    "\n",
    "basket_string_to_itemset('other vegetables,whole milk,condensed milk,long life bakery product')"
   ]
  },
  {
   "cell_type": "markdown",
   "metadata": {},
   "source": [
    "Recall the `baskets` input:"
   ]
  },
  {
   "cell_type": "code",
   "execution_count": 20,
   "metadata": {},
   "outputs": [
    {
     "data": {
      "text/plain": [
       "['citrus fruit,semi-finished bread,margarine,ready soups',\n",
       " 'tropical fruit,yogurt,coffee',\n",
       " 'whole milk',\n",
       " 'pip fruit,yogurt,cream cheese ,meat spreads',\n",
       " 'other vegetables,whole milk,condensed milk,long life bakery product']"
      ]
     },
     "execution_count": 20,
     "metadata": {},
     "output_type": "execute_result"
    }
   ],
   "source": [
    "baskets"
   ]
  },
  {
   "cell_type": "markdown",
   "metadata": {},
   "source": [
    "Applying our new function with the auxiliary itemset-creator yields a nice solution:"
   ]
  },
  {
   "cell_type": "code",
   "execution_count": 21,
   "metadata": {},
   "outputs": [
    {
     "data": {
      "text/plain": [
       "[{'citrus fruit', 'margarine', 'ready soups', 'semi-finished bread'},\n",
       " {'coffee', 'tropical fruit', 'yogurt'},\n",
       " {'whole milk'},\n",
       " {'cream cheese ', 'meat spreads', 'pip fruit', 'yogurt'},\n",
       " {'condensed milk',\n",
       "  'long life bakery product',\n",
       "  'other vegetables',\n",
       "  'whole milk'}]"
      ]
     },
     "execution_count": 21,
     "metadata": {},
     "output_type": "execute_result"
    }
   ],
   "source": [
    "make_itemsets2(baskets, to_set=basket_string_to_itemset)"
   ]
  },
  {
   "cell_type": "markdown",
   "metadata": {},
   "source": [
    "This example uses the ability to pass functions as arguments to other functions to create a nice generalization of the original `make_itemsets` solution. "
   ]
  }
 ],
 "metadata": {
  "anaconda-cloud": {},
  "celltoolbar": "Create Assignment",
  "kernelspec": {
   "display_name": "Python 3",
   "language": "python",
   "name": "python3"
  },
  "language_info": {
   "codemirror_mode": {
    "name": "ipython",
    "version": 3
   },
   "file_extension": ".py",
   "mimetype": "text/x-python",
   "name": "python",
   "nbconvert_exporter": "python",
   "pygments_lexer": "ipython3",
   "version": "3.7.3"
  }
 },
 "nbformat": 4,
 "nbformat_minor": 1
}
