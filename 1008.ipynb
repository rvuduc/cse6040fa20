{
 "cells": [
  {
   "cell_type": "markdown",
   "metadata": {},
   "source": [
    "**Recall:** Groceries dataset from Notebook 2."
   ]
  },
  {
   "cell_type": "code",
   "execution_count": null,
   "metadata": {},
   "outputs": [],
   "source": [
    "from os.path import isfile\n",
    "if not isfile('groceries.csv'):\n",
    "    from requests import get\n",
    "    response = get('https://cse6040.gatech.edu/datasets/groceries.csv')\n",
    "    print(response.text[:250])\n",
    "    with open('groceries.csv', 'wt') as fp:\n",
    "        fp.write(response.text)\n",
    "    print(\"Recall the `groceries.csv` file from Notebook 2:\")\n",
    "    print(response.text[:250], \"\\n... (and so on) ...\")\n",
    "    \n",
    "print(\"`groceries.csv` exists. You may proceed.\")"
   ]
  },
  {
   "cell_type": "markdown",
   "metadata": {},
   "source": [
    "Load and convert to Python data structures:\n",
    "* `bags`: A Python list of itemsets, where each line of the groceries input file is one \"shopping bag\" (e.g., `bags[0]`, `bags[1]`) and each itemset is stored as a Python set.\n",
    "* `items`: A Python set of unique items from all the bags."
   ]
  },
  {
   "cell_type": "code",
   "execution_count": null,
   "metadata": {},
   "outputs": [],
   "source": [
    "bags = []\n",
    "items = set()\n",
    "with open('groceries.csv', 'rt') as fp:\n",
    "    for line in fp.readlines():\n",
    "        line = line.strip()\n",
    "        bag = set(line.split(','))\n",
    "        items |= bag\n",
    "        bags.append(bag)\n",
    "print(len(items), \"unique items\")\n",
    "print(len(bags), \"grocery bags\")\n",
    "print(\"Bag 0:\", bags[0])\n",
    "print(\"Bag 1:\", bags[1])"
   ]
  },
  {
   "cell_type": "markdown",
   "metadata": {},
   "source": [
    "**Create SQL tables to hold these data.**"
   ]
  },
  {
   "cell_type": "code",
   "execution_count": null,
   "metadata": {},
   "outputs": [],
   "source": [
    "import sqlite3 as db\n",
    "\n",
    "# Connect to a database (or create one if it doesn't exist)\n",
    "conn = db.connect('groceries.db')\n",
    "c = conn.cursor()"
   ]
  },
  {
   "cell_type": "markdown",
   "metadata": {},
   "source": [
    "**`Items` table.**"
   ]
  },
  {
   "cell_type": "code",
   "execution_count": null,
   "metadata": {},
   "outputs": [],
   "source": [
    "c.execute(\"DROP TABLE IF EXISTS Items\")\n",
    "c.execute(\"CREATE TABLE Items (id INTEGER, name TEXT)\")\n",
    "\n",
    "item_to_id = {item: k for k, item in enumerate(items)}\n",
    "c.executemany('INSERT INTO Items VALUES (?, ?)', [(k, item) for item, k in item_to_id.items()])\n",
    "conn.commit()\n",
    "\n",
    "from pandas import read_sql_query\n",
    "\n",
    "df_items = read_sql_query('SELECT * FROM Items', conn)\n",
    "df_items"
   ]
  },
  {
   "cell_type": "markdown",
   "metadata": {},
   "source": [
    "**`Bags` table.**"
   ]
  },
  {
   "cell_type": "code",
   "execution_count": null,
   "metadata": {},
   "outputs": [],
   "source": [
    "c.execute(\"DROP TABLE IF EXISTS Bags\")\n",
    "c.execute(\"CREATE TABLE Bags (id INTEGER, item_id INTEGER)\")\n",
    "for k, bag in enumerate(bags):\n",
    "    for item in bag:\n",
    "        item_id = item_to_id[item]\n",
    "        c.execute(f\"INSERT INTO Bags VALUES ({k}, '{item_id}')\")\n",
    "conn.commit()\n",
    "\n",
    "df_bags = read_sql_query('SELECT * FROM Bags', conn)\n",
    "df_bags"
   ]
  },
  {
   "cell_type": "markdown",
   "metadata": {},
   "source": [
    "**Example:** Get items by name from bag 0."
   ]
  },
  {
   "cell_type": "code",
   "execution_count": null,
   "metadata": {},
   "outputs": [],
   "source": [
    "query = '''\n",
    "    SELECT Bags.id, Bags.item_id, Items.name\n",
    "        FROM Bags, Items\n",
    "        WHERE Bags.id=0 AND Bags.item_id=Items.id\n",
    "'''\n",
    "\n",
    "# Alternative, suggested in class by Agustina:\n",
    "query_agustina = '''\n",
    "    SELECT Bags.id, Bags.item_id, Items.name\n",
    "        FROM Bags\n",
    "        JOIN Items ON Bags.item_id=Items.id\n",
    "        WHERE Bags.id=0\n",
    "'''\n",
    "read_sql_query(query_agustina, conn)"
   ]
  },
  {
   "cell_type": "markdown",
   "metadata": {},
   "source": [
    "**Pandas version of the above.** You need to _construct_ the solution."
   ]
  },
  {
   "cell_type": "code",
   "execution_count": null,
   "metadata": {},
   "outputs": [],
   "source": [
    "bags[0]"
   ]
  },
  {
   "cell_type": "markdown",
   "metadata": {},
   "source": [
    "_Explicit filter._"
   ]
  },
  {
   "cell_type": "code",
   "execution_count": null,
   "metadata": {},
   "outputs": [],
   "source": [
    "df2 = df_bags[df_bags['id'] == 0]\n",
    "df2"
   ]
  },
  {
   "cell_type": "markdown",
   "metadata": {},
   "source": [
    "Options:\n",
    "\n",
    "1. merge (like joining in SQL)\n",
    "2. remapping values (`.map()`)"
   ]
  },
  {
   "cell_type": "markdown",
   "metadata": {},
   "source": [
    "_Option 1: merge._"
   ]
  },
  {
   "cell_type": "code",
   "execution_count": null,
   "metadata": {},
   "outputs": [],
   "source": [
    "df_items.head()"
   ]
  },
  {
   "cell_type": "code",
   "execution_count": null,
   "metadata": {},
   "outputs": [],
   "source": [
    "df2.merge(df_items, left_on='item_id', right_on='id')"
   ]
  },
  {
   "cell_type": "markdown",
   "metadata": {},
   "source": [
    "_Option 2: remap._ Use the `Series.map()` function with a dictionary that converts item IDs to item names."
   ]
  },
  {
   "cell_type": "code",
   "execution_count": null,
   "metadata": {},
   "outputs": [],
   "source": [
    "id_to_item = {k: name for name, k in item_to_id.items()}\n",
    "id_to_item"
   ]
  },
  {
   "cell_type": "code",
   "execution_count": null,
   "metadata": {},
   "outputs": [],
   "source": [
    "df3 = df2.copy()\n",
    "df3['name'] = df3['item_id'].map(id_to_item)\n",
    "df3"
   ]
  },
  {
   "cell_type": "markdown",
   "metadata": {},
   "source": [
    "**Exercise for you to do at home:** Compute a table of pairwise counts."
   ]
  },
  {
   "cell_type": "code",
   "execution_count": null,
   "metadata": {},
   "outputs": [],
   "source": []
  }
 ],
 "metadata": {
  "kernelspec": {
   "display_name": "Python 3",
   "language": "python",
   "name": "python3"
  },
  "language_info": {
   "codemirror_mode": {
    "name": "ipython",
    "version": 3
   },
   "file_extension": ".py",
   "mimetype": "text/x-python",
   "name": "python",
   "nbconvert_exporter": "python",
   "pygments_lexer": "ipython3",
   "version": "3.7.3"
  }
 },
 "nbformat": 4,
 "nbformat_minor": 4
}
