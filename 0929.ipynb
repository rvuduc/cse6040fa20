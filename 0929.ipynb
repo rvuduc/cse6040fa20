{
 "cells": [
  {
   "cell_type": "markdown",
   "metadata": {},
   "source": [
    "Adapted from [_Complex data structures in Python_](http://unixetc.co.uk/2019/03/05/complex-data-structures-in-python/) (a blog post).\n",
    "\n",
    "**Scenario: Used car dealership.** We maintain an inventory of cars with a (known) repair history."
   ]
  },
  {
   "cell_type": "code",
   "execution_count": null,
   "metadata": {},
   "outputs": [],
   "source": [
    "cars = []"
   ]
  },
  {
   "cell_type": "code",
   "execution_count": null,
   "metadata": {},
   "outputs": [],
   "source": [
    "car_record = {'make': \"alfa\", 'color': \"red\"}\n",
    "cars.append(car_record)\n",
    "cars"
   ]
  },
  {
   "cell_type": "code",
   "execution_count": null,
   "metadata": {},
   "outputs": [],
   "source": [
    "cars.append({'make': \"land rover\", 'color': \"forest green\"})\n",
    "cars"
   ]
  },
  {
   "cell_type": "code",
   "execution_count": null,
   "metadata": {},
   "outputs": [],
   "source": [
    "#cars.insert(len(cars), {'make': \"aston\", 'color': \"gold\"})\n",
    "cars += [{'make': \"aston\", 'color': \"gold\"}]\n",
    "#cars.append({'make': \"aston\", 'color': \"gold\"})\n",
    "cars"
   ]
  },
  {
   "cell_type": "code",
   "execution_count": null,
   "metadata": {},
   "outputs": [],
   "source": [
    "print(cars)"
   ]
  },
  {
   "cell_type": "code",
   "execution_count": null,
   "metadata": {},
   "outputs": [],
   "source": [
    "def pp(x): # pretty prints a possibly complex data structure in a \"nice\" or \"more readable\" format\n",
    "    from pprint import PrettyPrinter\n",
    "    PrettyPrinter(indent=4).pprint(x)\n",
    "    \n",
    "pp(cars)"
   ]
  },
  {
   "cell_type": "markdown",
   "metadata": {},
   "source": [
    "**Previous owners.**"
   ]
  },
  {
   "cell_type": "code",
   "execution_count": null,
   "metadata": {},
   "outputs": [],
   "source": [
    "cars[0]['owners'] = [\"tom\", \"james\"]\n",
    "cars[1]['owners'] = [\"alison\"]\n",
    "cars[2]['owners'] = [\"tom\", \"james\", \"jake\"]\n",
    "pp(cars)"
   ]
  },
  {
   "cell_type": "markdown",
   "metadata": {},
   "source": [
    "**Exercise:** For each car, add a new attribute called `'ownercount'` which is the number of previous owners, stored as an integer."
   ]
  },
  {
   "cell_type": "code",
   "execution_count": null,
   "metadata": {},
   "outputs": [],
   "source": [
    "for i in range(len(cars)):\n",
    "    cars[i]['ownercount'] = len(cars[i]['owners'])\n",
    "pp(cars)"
   ]
  },
  {
   "cell_type": "markdown",
   "metadata": {},
   "source": [
    "```python\n",
    "# list comprehension pseudo-example\n",
    "results = []\n",
    "for i in range(n):\n",
    "    results.append(foo(i))\n",
    "    \n",
    "results = [foo(i) for i in range(n)]\n",
    "\n",
    "# dictionary pseudo-example\n",
    "results = {}\n",
    "for k, v in pairs:\n",
    "    results[k] = v\n",
    "    \n",
    "results = {k: v for k, v in pairs}\n",
    "```"
   ]
  },
  {
   "cell_type": "markdown",
   "metadata": {},
   "source": [
    "**Repair histories.** For each car, there will be a \"repair history,\" which is below."
   ]
  },
  {
   "cell_type": "code",
   "execution_count": null,
   "metadata": {},
   "outputs": [],
   "source": [
    "cars[0]"
   ]
  },
  {
   "cell_type": "code",
   "execution_count": null,
   "metadata": {},
   "outputs": [],
   "source": [
    "repair_record = {\"desc\": \"new clutch\", \"cost\": \"2314\", \"date\": \"4/3/2012\"}\n",
    "cars[0]['history'] = [repair_record]\n",
    "pp(cars)"
   ]
  },
  {
   "cell_type": "markdown",
   "metadata": {},
   "source": [
    "**Javascript Object Notation (JSON).** Standard way to describe data structures like what you see above."
   ]
  },
  {
   "cell_type": "code",
   "execution_count": null,
   "metadata": {},
   "outputs": [],
   "source": [
    "from json import dumps\n",
    "print(dumps(cars, indent=4))"
   ]
  },
  {
   "cell_type": "markdown",
   "metadata": {},
   "source": [
    "Often, you can just copy-and-paste JSON data as a Python data structure:"
   ]
  },
  {
   "cell_type": "code",
   "execution_count": null,
   "metadata": {},
   "outputs": [],
   "source": [
    "cars2 = [\n",
    "    {\n",
    "        \"make\": \"alfa\",\n",
    "        \"color\": \"red\",\n",
    "        \"owners\": [\n",
    "            \"tom\",\n",
    "            \"james\"\n",
    "        ],\n",
    "        \"ownercount\": 2,\n",
    "        \"history\": [\n",
    "            {\n",
    "                \"desc\": \"new clutch\",\n",
    "                \"cost\": \"2314\",\n",
    "                \"date\": \"4/3/2012\"\n",
    "            }\n",
    "        ]\n",
    "    },\n",
    "    {\n",
    "        \"make\": \"land rover\",\n",
    "        \"color\": \"forest green\",\n",
    "        \"owners\": [\n",
    "            \"alison\"\n",
    "        ],\n",
    "        \"ownercount\": 1\n",
    "    },\n",
    "    {\n",
    "        \"make\": \"aston\",\n",
    "        \"color\": \"gold\",\n",
    "        \"owners\": [\n",
    "            \"tom\",\n",
    "            \"james\",\n",
    "            \"jake\"\n",
    "        ],\n",
    "        \"ownercount\": 3\n",
    "    }\n",
    "]\n",
    "cars2"
   ]
  },
  {
   "cell_type": "markdown",
   "metadata": {},
   "source": [
    "**Exercise:** Make sure _every_ car record has a `'history'` field (initialize to blank if it doesn't exist)."
   ]
  },
  {
   "cell_type": "code",
   "execution_count": null,
   "metadata": {},
   "outputs": [],
   "source": [
    "for i in range(len(cars)):\n",
    "    cars[i]['history'] = cars[i].get('history', [])\n",
    "    \n",
    "pp(cars)"
   ]
  },
  {
   "cell_type": "markdown",
   "metadata": {},
   "source": [
    "```python\n",
    "for i in range(len(cars)):\n",
    "    if 'history' not in cars[i]:\n",
    "        cars[i]['history'] = []\n",
    "        \n",
    "for car in cars:\n",
    "    if 'history' not in car:\n",
    "        car['history'] = []\n",
    "    # or: car['history'] = car.get('history', [])\n",
    "```"
   ]
  },
  {
   "cell_type": "code",
   "execution_count": null,
   "metadata": {},
   "outputs": [],
   "source": [
    "L = [1, 2, 3, 4, 5]\n",
    "for x in L:\n",
    "    x *= -1\n",
    "L"
   ]
  },
  {
   "cell_type": "code",
   "execution_count": null,
   "metadata": {},
   "outputs": [],
   "source": [
    "cars[1][\"history\"].append({\"desc\": \"cambelt replacement\",\n",
    "                           \"cost\": \"1688\",\n",
    "                           \"date\": \"5/5/2014\"})\n",
    "cars[2][\"history\"].append({\"desc\": \"new engine\",\n",
    "                           \"cost\": \"9599\",\n",
    "                           \"date\": \"30/8/2010\" })\n",
    "cars[2][\"history\"].append({\"desc\": \"wheel alignment\",\n",
    "                           \"cost\": \"125\",\n",
    "                           \"date\": \"4/9/2011\"})"
   ]
  },
  {
   "cell_type": "code",
   "execution_count": null,
   "metadata": {},
   "outputs": [],
   "source": [
    "pp(cars)"
   ]
  },
  {
   "cell_type": "code",
   "execution_count": null,
   "metadata": {},
   "outputs": [],
   "source": [
    "cars.append({'make': \"toyota\", 'color': \"grey\", 'ownercount': 1, 'owners': ['rich']})\n",
    "pp(cars)"
   ]
  },
  {
   "cell_type": "markdown",
   "metadata": {},
   "source": [
    "**Exercise:** Let the ID (identification number) of each car be its index in the list (0 through `len(cars)-1`). Return a list of tuples, `(id, year)` where `year` is the year of the _last_ repair date as an `int`, or `None` if there were no repairs."
   ]
  },
  {
   "cell_type": "code",
   "execution_count": null,
   "metadata": {},
   "outputs": [],
   "source": [
    "car = cars[2]\n",
    "car"
   ]
  },
  {
   "cell_type": "code",
   "execution_count": null,
   "metadata": {},
   "outputs": [],
   "source": [
    "car = cars[3]\n",
    "if 'history' in car:\n",
    "    history = car['history']\n",
    "    dates = [repair['date'] for repair in history]\n",
    "    years = [int(date[-4:]) for date in dates]\n",
    "    year = max(years)\n",
    "else:\n",
    "    year = None\n",
    "print(year)"
   ]
  },
  {
   "cell_type": "code",
   "execution_count": null,
   "metadata": {},
   "outputs": [],
   "source": [
    "def get_year(car):\n",
    "    if 'history' in car:\n",
    "        history = car['history']\n",
    "        dates = [repair['date'] for repair in history]\n",
    "        years = [int(date[-4:]) for date in dates]\n",
    "        year = max(years)\n",
    "    else:\n",
    "        year = None\n",
    "    return year\n",
    "\n",
    "print(get_year(cars[2]), get_year(cars[3]))"
   ]
  },
  {
   "cell_type": "code",
   "execution_count": null,
   "metadata": {},
   "outputs": [],
   "source": [
    "results = []\n",
    "for i, car in enumerate(cars):\n",
    "    yyyy = get_year(car) # assume get_year returns an `int`\n",
    "    results.append((i, yyyy))\n",
    "results"
   ]
  },
  {
   "cell_type": "code",
   "execution_count": null,
   "metadata": {},
   "outputs": [],
   "source": [
    "results2 = [(i, get_year(car)) for i, car in enumerate(cars)]\n",
    "results2"
   ]
  },
  {
   "cell_type": "markdown",
   "metadata": {},
   "source": [
    "**Example (question about lambda functions):** Get any date with the maximum year."
   ]
  },
  {
   "cell_type": "code",
   "execution_count": null,
   "metadata": {},
   "outputs": [],
   "source": [
    "dates = ['2/9/2011', '30/8/2010']\n",
    "dates"
   ]
  },
  {
   "cell_type": "code",
   "execution_count": null,
   "metadata": {},
   "outputs": [],
   "source": [
    "def foo(d):\n",
    "    return int(d[-4:])\n",
    "\n",
    "max(dates, key=foo)  # where if `d in dates` then `foo(d)` is the value to use for comparisons"
   ]
  },
  {
   "cell_type": "code",
   "execution_count": null,
   "metadata": {},
   "outputs": [],
   "source": [
    "max(dates, key=lambda d: int(d[-4:]))"
   ]
  },
  {
   "cell_type": "markdown",
   "metadata": {},
   "source": [
    "**Question about compressed vectors.**"
   ]
  },
  {
   "cell_type": "code",
   "execution_count": null,
   "metadata": {},
   "outputs": [],
   "source": [
    "x = {'a': 3, 'b': 4, 'c': -1, 'd': 2.17}\n",
    "y = {'b': -2, 'd': 5}\n",
    "x, y"
   ]
  },
  {
   "cell_type": "code",
   "execution_count": null,
   "metadata": {},
   "outputs": [],
   "source": [
    "common_keys = set(x.keys()) & set(y.keys())\n",
    "common_keys"
   ]
  },
  {
   "cell_type": "code",
   "execution_count": null,
   "metadata": {},
   "outputs": [],
   "source": [
    "for k in common_keys:\n",
    "    print(x[k], y[k])"
   ]
  },
  {
   "cell_type": "code",
   "execution_count": null,
   "metadata": {},
   "outputs": [],
   "source": []
  }
 ],
 "metadata": {
  "kernelspec": {
   "display_name": "Python 3",
   "language": "python",
   "name": "python3"
  },
  "language_info": {
   "codemirror_mode": {
    "name": "ipython",
    "version": 3
   },
   "file_extension": ".py",
   "mimetype": "text/x-python",
   "name": "python",
   "nbconvert_exporter": "python",
   "pygments_lexer": "ipython3",
   "version": "3.7.3"
  }
 },
 "nbformat": 4,
 "nbformat_minor": 4
}
