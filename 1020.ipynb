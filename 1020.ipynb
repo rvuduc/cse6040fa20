{
 "cells": [
  {
   "cell_type": "markdown",
   "metadata": {},
   "source": [
    "# Review: Notebook 10, Exercise 8\n",
    "\n",
    "Suppose you have a sparse matrix in coordinate (COO) format with the following row indices:"
   ]
  },
  {
   "cell_type": "code",
   "execution_count": null,
   "metadata": {},
   "outputs": [],
   "source": [
    "I = [0, 0, 1, 1, 2, 2] # row indices\n",
    "assert I == sorted(I)"
   ]
  },
  {
   "cell_type": "markdown",
   "metadata": {},
   "source": [
    "**Exercise:** Calculate the row pointers of a CSR representation. _(Recall that the column indices and nonzero values are the same as coordinate format.)_ For this example, if `R` is the desired output, then\n",
    "\n",
    "```python\n",
    "    R = [0, 2, 4, 6]\n",
    "```"
   ]
  },
  {
   "cell_type": "markdown",
   "metadata": {},
   "source": [
    "**Approach:** Loop over the indices and look for changes, which indicate where a new row begins. This pattern is similar to one we saw earlier in the semester, when we looked at differences between adjacent elements of a list or array, so let's adapt that approach here.\n",
    "\n",
    "> In this case, let's produce an output that indicates whether an element and its right-neighbor differ, as well as the value of the right-neighbor."
   ]
  },
  {
   "cell_type": "code",
   "execution_count": null,
   "metadata": {},
   "outputs": [],
   "source": [
    "diffs = [(i != j, j) for i, j in zip(I[:-1], I[1:])]\n",
    "diffs"
   ]
  },
  {
   "cell_type": "markdown",
   "metadata": {},
   "source": [
    "Given this information, we know that wherever `diffs[k][0] == True`, then the starting offset of row `diffs[k][1]` must be `k+1` in the row pointer array. The following code builds the row pointers accordingly."
   ]
  },
  {
   "cell_type": "code",
   "execution_count": null,
   "metadata": {},
   "outputs": [],
   "source": [
    "# number of rows, which is most likely given but can also be\n",
    "# calculated from `I` assuming no trailing empty rows:\n",
    "n = max(I) + 1\n",
    "\n",
    "# Initial row pointers (`n+1` of them, by CSR's convention)\n",
    "R = [0] * (n+1)\n",
    "\n",
    "# Look for differences and update the row pointers\n",
    "for k, (d, j) in enumerate(diffs):\n",
    "    if d:\n",
    "        R[j] = k+1\n",
    "R[-1] = len(I) # number of nonzeros (by CSR's convention)\n",
    "\n",
    "print(R)"
   ]
  },
  {
   "cell_type": "markdown",
   "metadata": {},
   "source": [
    "This solution looks right. But we're not done yet! The above code does not correctly handle the case of an _empty_ row:"
   ]
  },
  {
   "cell_type": "code",
   "execution_count": null,
   "metadata": {},
   "outputs": [],
   "source": [
    "# row indices: note: row 2 is empty!\n",
    "I = [0, 0, 1, 1, 3, 3]\n",
    "\n",
    "# Repeat solution code from before:\n",
    "diffs = [(i != j, j) for i, j in zip(I[:-1], I[1:])]\n",
    "n = max(I) + 1\n",
    "R = [0] * (n+1)\n",
    "for k, (d, j) in enumerate(diffs):\n",
    "    if d:\n",
    "        R[j] = k+1\n",
    "R[-1] = len(I) # number of nonzeros (by CSR's convention)\n",
    "\n",
    "print(R) # Rats!"
   ]
  },
  {
   "cell_type": "markdown",
   "metadata": {},
   "source": [
    "The answer _should have been_ ```R = [0, 2, 2, 4, 6]```, but we can see that `R[2]` is set incorrectly to 0. How should we fix it?\n",
    "\n",
    "We can try to patch up the above algorithm. However, an alternative is to run a postprocessing where we fix-up zeros. Here are two ways."
   ]
  },
  {
   "cell_type": "markdown",
   "metadata": {},
   "source": [
    "_Method 1:_ Loop over `R`, look for zeros, and replace them with their preceding value."
   ]
  },
  {
   "cell_type": "code",
   "execution_count": null,
   "metadata": {},
   "outputs": [],
   "source": [
    "R_1 = R.copy() # Make a copy, so we can try other methods\n",
    "print('Before:', R_1)\n",
    "for k in range(1, len(R_1)):\n",
    "    if R_1[k] == 0:\n",
    "        R_1[k] = R_1[k-1]\n",
    "print('After:', R_1)"
   ]
  },
  {
   "cell_type": "markdown",
   "metadata": {},
   "source": [
    "_Method 2:_ Use max-scan:"
   ]
  },
  {
   "cell_type": "code",
   "execution_count": null,
   "metadata": {},
   "outputs": [],
   "source": [
    "from itertools import accumulate\n",
    "R_2 = R.copy()\n",
    "print('Before:', R_2)\n",
    "R_2 = list(accumulate(R_2, max)) # Need `list(...)` because `accumulate` returns an iterator object\n",
    "print('After:', R_2)"
   ]
  },
  {
   "cell_type": "code",
   "execution_count": null,
   "metadata": {},
   "outputs": [],
   "source": []
  }
 ],
 "metadata": {
  "kernelspec": {
   "display_name": "Python 3",
   "language": "python",
   "name": "python3"
  },
  "language_info": {
   "codemirror_mode": {
    "name": "ipython",
    "version": 3
   },
   "file_extension": ".py",
   "mimetype": "text/x-python",
   "name": "python",
   "nbconvert_exporter": "python",
   "pygments_lexer": "ipython3",
   "version": "3.7.3"
  }
 },
 "nbformat": 4,
 "nbformat_minor": 4
}
